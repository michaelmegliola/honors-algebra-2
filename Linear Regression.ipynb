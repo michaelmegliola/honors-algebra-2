{
 "cells": [
  {
   "cell_type": "markdown",
   "metadata": {},
   "source": [
    "### Let's create a way to estimate a best-fit line for a series of data points\n",
    "\n",
    "#### Here are some aribitrary data points (data_x,data_y):"
   ]
  },
  {
   "cell_type": "code",
   "execution_count": null,
   "metadata": {},
   "outputs": [],
   "source": [
    "%matplotlib inline\n",
    "import matplotlib.pyplot as plt\n",
    "\n",
    "data_x = [2,4,6,8,10]\n",
    "data_y = [3,4,7,6,11]\n",
    "\n",
    "plt.scatter(data_x,data_y)"
   ]
  },
  {
   "cell_type": "markdown",
   "metadata": {},
   "source": [
    "#### And here is a function that draws an arbitrary line (for a given slope & intercept), using $f(x)=mx+b$:"
   ]
  },
  {
   "cell_type": "code",
   "execution_count": null,
   "metadata": {},
   "outputs": [],
   "source": [
    "# define a function for f(x) = mx + b\n",
    "def f(x, m, b):\n",
    "    return m * x + b\n",
    "\n",
    "m = 1.0       # set slope to 1.0\n",
    "b = 1.0       # set y-intercept to 1.0\n",
    "\n",
    "f(6.0,m,b)    # what is f(x) if x = 6?"
   ]
  },
  {
   "cell_type": "markdown",
   "metadata": {},
   "source": [
    "#### You can calculate and print the result of $f(x)=mx+b$ for each x value in a specified data set:"
   ]
  },
  {
   "cell_type": "code",
   "execution_count": null,
   "metadata": {},
   "outputs": [],
   "source": [
    "for x in data_x:                           # this loops over the values in the list data_x\n",
    "    print('f(', x, ') =', f(x,m,b))        # and for each value, prints f(x)"
   ]
  },
  {
   "cell_type": "markdown",
   "metadata": {},
   "source": [
    "#### ...or, you can calculate the values and store the results in a list, to create a chart:"
   ]
  },
  {
   "cell_type": "code",
   "execution_count": null,
   "metadata": {},
   "outputs": [],
   "source": [
    "def plot(m, b):\n",
    "    f_of_x = []                   # this list will hold the values of f(x)\n",
    "\n",
    "    for x in data_x:              # loop over each x value in the data set...\n",
    "        f_of_x.append(f(x,m,b))   # ...and append f(x) to the list\n",
    "\n",
    "    plt.scatter(data_x, data_y)   # this plots the original data points\n",
    "    plt.plot(data_x, f_of_x)      # this plots the line defined by: f(x) = mx + b\n",
    "    \n",
    "plot(1.0, 1.0)                    # first parameter is slope, second is y-intercept"
   ]
  },
  {
   "cell_type": "markdown",
   "metadata": {},
   "source": [
    "#### That can't be the best-fit line! ...all of the error lies below the line, with no error above. Let's try a different line:"
   ]
  },
  {
   "cell_type": "code",
   "execution_count": null,
   "metadata": {},
   "outputs": [],
   "source": [
    "plot(0.9, 0.5)  # maybe a little less slope, and lower intercept?"
   ]
  },
  {
   "cell_type": "code",
   "execution_count": null,
   "metadata": {},
   "outputs": [],
   "source": [
    "plot(0.85, 0.8)  # trying again, just for fun"
   ]
  },
  {
   "cell_type": "markdown",
   "metadata": {},
   "source": [
    "#### Well, those are better... but where is the best-fit line?\n",
    "\n",
    "The definition of the best-fit line is the line that minimizes the sum of the squares of the differences between the data points and the line. That sounds complicated, but it's just a matter of finding each difference, squaring it, and adding those up.\n",
    "\n",
    "Here is a partial function to find that sum..."
   ]
  },
  {
   "cell_type": "code",
   "execution_count": null,
   "metadata": {},
   "outputs": [],
   "source": [
    "def cost(data_x,data_y,m,b):\n",
    " \n",
    "    for x,y in zip(data_x,data_y):\n",
    "        f_of_x = f(x,m,b)\n",
    "        print('x=', x, '  y=', y, '  f(x)=', f_of_x, '  difference=', y - f_of_x)\n",
    "        \n",
    "cost(data_x,data_y,0.9,0.5)"
   ]
  },
  {
   "cell_type": "markdown",
   "metadata": {},
   "source": [
    "#### Complete the function by following the comments..."
   ]
  },
  {
   "cell_type": "code",
   "execution_count": null,
   "metadata": {},
   "outputs": [],
   "source": [
    "# Complete the cost function, so that it returns the sum\n",
    "# of the squares of the differences between y and f(x)\n",
    "\n",
    "def cost(data_x,data_y,m,b):\n",
    "    \n",
    "    ### you might need to initialize a variable here\n",
    "    \n",
    "    for x,y in zip(data_x,data_y):\n",
    "        f_of_x = f(x,m,b)\n",
    "        difference = y - f_of_x\n",
    "    \n",
    "        ### your code goes here\n",
    "        ### find the square of the difference between y and f_of_x\n",
    "        ### add the squares together in a running sum\n",
    "    \n",
    "    ### and finally, return the sum of the squares\n",
    "        \n",
    "cost(data_x,data_y,0.9,0.5)"
   ]
  },
  {
   "cell_type": "markdown",
   "metadata": {},
   "source": [
    "#### Now you can run the function to try to minimize the cost, in order to find a best-fit line. It's a little difficult, because you can change both the slope (m) and the y-intercept (b), but give it a try."
   ]
  },
  {
   "cell_type": "code",
   "execution_count": null,
   "metadata": {},
   "outputs": [],
   "source": [
    "# example -- what is the cost using these values for m and b?\n",
    "cost(data_x,data_y,0.95,0.75)"
   ]
  },
  {
   "cell_type": "markdown",
   "metadata": {},
   "source": [
    "#### Extreme challenge problem: for a given value of b, graph the cost versus m and estimate the minimum."
   ]
  },
  {
   "cell_type": "code",
   "execution_count": null,
   "metadata": {},
   "outputs": [],
   "source": []
  }
 ],
 "metadata": {
  "kernelspec": {
   "display_name": "Python 3",
   "language": "python",
   "name": "python3"
  },
  "language_info": {
   "codemirror_mode": {
    "name": "ipython",
    "version": 3
   },
   "file_extension": ".py",
   "mimetype": "text/x-python",
   "name": "python",
   "nbconvert_exporter": "python",
   "pygments_lexer": "ipython3",
   "version": "3.6.5"
  }
 },
 "nbformat": 4,
 "nbformat_minor": 2
}
